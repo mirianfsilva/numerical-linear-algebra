{
 "cells": [
  {
   "cell_type": "markdown",
   "metadata": {},
   "source": [
    "## Trabalho Prático: Autovalores e SVD\n",
    "### Algebra Linear Númerica\n",
    "**Mírian e Erick** \n",
    "\n",
    "[Referências](http://people.inf.ethz.ch/arbenz/ewp/Lnotes/2010/chapter3.pdf)"
   ]
  },
  {
   "cell_type": "code",
   "execution_count": 441,
   "metadata": {},
   "outputs": [],
   "source": [
    "using LinearAlgebra\n",
    "using Printf\n",
    "Base.show(io::IO, f::Float64) = @printf(io, \"%1.3f\", f)"
   ]
  },
  {
   "cell_type": "code",
   "execution_count": 442,
   "metadata": {},
   "outputs": [
    {
     "data": {
      "text/plain": [
       "4×4 Array{Float64,2}:\n",
       " 6.000  5.000  2.000  3.000\n",
       " 5.000  1.000  4.000  6.000\n",
       " 1.000  4.000  3.000  7.000\n",
       " 4.000  1.000  2.000  2.000"
      ]
     },
     "execution_count": 442,
     "metadata": {},
     "output_type": "execute_result"
    }
   ],
   "source": [
    "#Matrizes de Exemplo:\n",
    "#Exemplo A\n",
    "ExA = [6.0 5.0 2.0 3.0; \n",
    "        5.0 1.0 4.0 6.0; \n",
    "        1.0 4.0 3.0 7.0;\n",
    "        4.0 1.0 2.0 2.0]"
   ]
  },
  {
   "cell_type": "code",
   "execution_count": 443,
   "metadata": {},
   "outputs": [
    {
     "data": {
      "text/plain": [
       "3×3 Array{Float64,2}:\n",
       " 6.000  5.000  0.000\n",
       " 5.000  1.000  4.000\n",
       " 0.000  4.000  3.000"
      ]
     },
     "execution_count": 443,
     "metadata": {},
     "output_type": "execute_result"
    }
   ],
   "source": [
    "#Exemplo B\n",
    "ExB = [6.0 5.0 0.0;\n",
    "        5.0 1.0 4.0;\n",
    "        0.0 4.0 3.0]"
   ]
  },
  {
   "cell_type": "markdown",
   "metadata": {},
   "source": [
    "## _Primitivas_"
   ]
  },
  {
   "cell_type": "markdown",
   "metadata": {},
   "source": [
    "### Questão (1)\n",
    "Implementação de uma função que calcula a norma de um vetor no $R^n$."
   ]
  },
  {
   "cell_type": "code",
   "execution_count": 520,
   "metadata": {},
   "outputs": [
    {
     "data": {
      "text/plain": [
       "NormaWdoVetor (generic function with 1 method)"
      ]
     },
     "execution_count": 520,
     "metadata": {},
     "output_type": "execute_result"
    }
   ],
   "source": [
    "#Norma Comum\n",
    "function NormaComumdoVetor(V)\n",
    "    sumV=0\n",
    "    for i in V #Somatório do Elemento\n",
    "        sumV = sumV + (i)^2\n",
    "    end\n",
    "    NormaV = sqrt(sumV)\n",
    "\n",
    "    return NormaV\n",
    "end\n",
    "\n",
    "#Norma W - Recebe um vetor V e retorna a versão vetor W definida na questão\n",
    "function NormaWdoVetor(V)\n",
    "    Beta =  maximum(V) #Beta é o maior valor do vetor V\n",
    "    W = (1/Beta)*V # o vetor W é o produto entre inversa de Beta e vetor V\n",
    "    sumW=0\n",
    "    for i in W #Somatório do Elemento\n",
    "        sumW = sumW + (i)^2\n",
    "    end\n",
    "    NormaW = sqrt(sumW)\n",
    "\n",
    "    return NormaW\n",
    "end"
   ]
  },
  {
   "cell_type": "markdown",
   "metadata": {},
   "source": [
    "### Questão (2) Rotações de Givens - Caso Real\n",
    "\n",
    "Implementação de uma função que recebe dois números reais, f e g, e calcula *c,s* e *r* com as propriedades de norma implementadas acima, sem usar funções trigonométricas na resposta final."
   ]
  },
  {
   "cell_type": "code",
   "execution_count": 522,
   "metadata": {},
   "outputs": [
    {
     "data": {
      "text/plain": [
       "RotacaoDeGivens2x2 (generic function with 1 method)"
      ]
     },
     "execution_count": 522,
     "metadata": {},
     "output_type": "execute_result"
    }
   ],
   "source": [
    "#Função Rotação de Givens, recebe a e b, e retorna r, c, s\n",
    "function RotacaoDeGivens2x2(f,g)\n",
    "\n",
    "    r = sqrt((f*f)+(g*g)) #Achando o valor de r\n",
    "    c = f/r #Fórmula do valor de c\n",
    "    s = -g/r #Fórmula do valor de s\n",
    "\n",
    "    return r,c,s\n",
    "end"
   ]
  },
  {
   "cell_type": "markdown",
   "metadata": {},
   "source": [
    "### Questão (3) Refletores de Householder - Caso Real\n",
    "\n",
    "Função que recebe um vetor w e computa γ e v com as propriedades implementadas acima."
   ]
  },
  {
   "cell_type": "code",
   "execution_count": 523,
   "metadata": {},
   "outputs": [
    {
     "data": {
      "text/plain": [
       "ReflexaoDeHouseholder (generic function with 1 method)"
      ]
     },
     "execution_count": 523,
     "metadata": {},
     "output_type": "execute_result"
    }
   ],
   "source": [
    "#Função Reflexão de Householder, recebe vetor W e retorna \n",
    "function ReflexaoDeHouseholder(W)\n",
    "    \n",
    "    SizeW = length(W) #Pegando o tamanho do Vetor W\n",
    "    NormadeW = NormaComumdoVetor(W) #Já tirando a norma de W\n",
    "    \n",
    "    e = zeros(SizeW, 1) #Aqui criaremos o vetor elementar e do mesmo tamanho do W\n",
    "    e[1] = 1 #O primeiro valor de e é 1\n",
    "    \n",
    "    α = NormadeW #α é a norma de W\n",
    "\n",
    "    V = W - α*e\n",
    "    \n",
    "    NormadeV = NormaComumdoVetor(V) #Norma do V encontrado para acharmos o γ\n",
    "    γ = 2/(NormadeV*NormadeV)\n",
    "    \n",
    "    return γ, V\n",
    "end"
   ]
  },
  {
   "cell_type": "code",
   "execution_count": 524,
   "metadata": {},
   "outputs": [
    {
     "data": {
      "text/plain": [
       "2×1 Array{Float64,2}:\n",
       " -2.000\n",
       "  4.000"
      ]
     },
     "execution_count": 524,
     "metadata": {},
     "output_type": "execute_result"
    }
   ],
   "source": [
    "#TESTE\n",
    "γ, V = ReflexaoDeHouseholder([3; 4])\n",
    "P = I - γ*V*(V')\n",
    "P*[3; 4]\n",
    "V"
   ]
  },
  {
   "cell_type": "markdown",
   "metadata": {},
   "source": [
    "### Questão (4) Decomposição QR\n",
    "\n",
    "Implementação de uma função que calcula a decomposição QR de uma matriz A:"
   ]
  },
  {
   "cell_type": "code",
   "execution_count": 525,
   "metadata": {},
   "outputs": [
    {
     "data": {
      "text/plain": [
       "QRporReflexaoDeHouseholder (generic function with 1 method)"
      ]
     },
     "execution_count": 525,
     "metadata": {},
     "output_type": "execute_result"
    }
   ],
   "source": [
    "#QR por Givens\n",
    "function QR2x2porRotacaoDeGivens(A) \n",
    "    V = A[:,1]\n",
    "    a = A[1]\n",
    "    b = A[2]\n",
    "    r,c,s = RotacaoDeGivens2x2Givens(a,b)\n",
    "    Q = [c s ; -s c]\n",
    "    return Q\n",
    "end\n",
    "\n",
    "#QR por Reflexão de Householder\n",
    "function QRporReflexaoDeHouseholder(A) \n",
    "    Q=one(A)\n",
    "    mA = size(A,1)\n",
    "    nA = size(A,2)\n",
    "    for i in 1:(nA-1)\n",
    "        vtemp = A[i:mA,i] #vetor temporario que é enviado pra Reflexao\n",
    "        γ, v = ReflexaoDeHouseholder(vtemp)\n",
    "        vt = transpose(v) \n",
    "        P = I - γ*v*vt #formula de Householder\n",
    "        Qi = P\n",
    "        Q[:,i:nA] = Q[:,i:nA]*Qi\n",
    "        A[i:mA, i:nA]=P*A[i:mA, i:nA] #Problema aqui em alocar os valores das submatrizes, nao tenho ideia de como fazer em julia por hora\n",
    "    end\n",
    "    return Q,A\n",
    "end"
   ]
  },
  {
   "cell_type": "code",
   "execution_count": 526,
   "metadata": {},
   "outputs": [
    {
     "data": {
      "text/plain": [
       "LinearAlgebra.QRCompactWY{Float64,Array{Float64,2}}\n",
       "Q factor:\n",
       "4×4 LinearAlgebra.QRCompactWYQ{Float64,Array{Float64,2}}:\n",
       " -0.679   0.385   0.583  -0.223\n",
       " -0.566  -0.400  -0.566  -0.446\n",
       " -0.113   0.785  -0.582   0.179\n",
       " -0.453  -0.274  -0.022   0.848\n",
       "R factor:\n",
       "4×4 Array{Float64,2}:\n",
       " -8.832  -4.869  -4.869  -7.133\n",
       "  0.000   4.393   0.978   3.704\n",
       "  0.000   0.000  -2.888  -5.765\n",
       "  0.000   0.000   0.000  -0.402"
      ]
     },
     "execution_count": 526,
     "metadata": {},
     "output_type": "execute_result"
    }
   ],
   "source": [
    "#TESTE QR PRONTO\n",
    "function QRpronto(A) \n",
    "    Q,R = qr(A)\n",
    "end\n",
    "\n",
    "QRpronto(ExA)"
   ]
  },
  {
   "cell_type": "code",
   "execution_count": 527,
   "metadata": {},
   "outputs": [
    {
     "data": {
      "text/plain": [
       "LinearAlgebra.QRCompactWY{Float64,Array{Float64,2}}\n",
       "Q factor:\n",
       "3×3 LinearAlgebra.QRCompactWYQ{Float64,Array{Float64,2}}:\n",
       " -1.000  0.000  0.000\n",
       "  0.000  1.000  0.000\n",
       "  0.000  0.000  1.000\n",
       "R factor:\n",
       "3×3 Array{Float64,2}:\n",
       " -7.810  -4.481  -2.561\n",
       "  0.000   4.682   0.966\n",
       "  0.000   0.000  -4.184"
      ]
     },
     "execution_count": 527,
     "metadata": {},
     "output_type": "execute_result"
    }
   ],
   "source": [
    "QRpronto(ExB)"
   ]
  },
  {
   "cell_type": "code",
   "execution_count": 531,
   "metadata": {},
   "outputs": [
    {
     "name": "stdout",
     "output_type": "stream",
     "text": [
      "\n",
      "Matriz Triangular R:"
     ]
    },
    {
     "data": {
      "text/plain": [
       "3×3 Array{Float64,2}:\n",
       " 1.000  0.000  0.000\n",
       " 0.000  1.000  0.000\n",
       " 0.000  0.000  1.000"
      ]
     },
     "execution_count": 531,
     "metadata": {},
     "output_type": "execute_result"
    }
   ],
   "source": [
    "#TESTE\n",
    "Q, R = QRporReflexaoDeHouseholder(ExB)\n",
    "print(\"\\nMatriz Triangular R:\")\n",
    "Q"
   ]
  },
  {
   "cell_type": "code",
   "execution_count": 532,
   "metadata": {},
   "outputs": [
    {
     "data": {
      "text/plain": [
       "3×3 Array{Float64,2}:\n",
       "  7.810  4.481   2.561\n",
       " -0.000  4.682   0.966\n",
       "  0.000  0.000  -4.184"
      ]
     },
     "execution_count": 532,
     "metadata": {},
     "output_type": "execute_result"
    }
   ],
   "source": [
    "Q*R"
   ]
  },
  {
   "cell_type": "code",
   "execution_count": 533,
   "metadata": {},
   "outputs": [
    {
     "data": {
      "text/plain": [
       "3×3 Array{Float64,2}:\n",
       " 1.000  0.000  0.000\n",
       " 0.000  1.000  0.000\n",
       " 0.000  0.000  1.000"
      ]
     },
     "execution_count": 533,
     "metadata": {},
     "output_type": "execute_result"
    }
   ],
   "source": [
    "Q'*Q"
   ]
  },
  {
   "cell_type": "markdown",
   "metadata": {},
   "source": [
    "## _Autovalores e autovetores_"
   ]
  },
  {
   "cell_type": "markdown",
   "metadata": {},
   "source": [
    "### Questão (5) Redução à forma de Hessenberg\n",
    "\n",
    "Implementação de uma função que reduza uma matriz A a forma de Hessenberg:"
   ]
  },
  {
   "cell_type": "code",
   "execution_count": 623,
   "metadata": {},
   "outputs": [
    {
     "data": {
      "text/plain": [
       "4×4 Array{Float64,2}:\n",
       "  6.000  6.018   1.215  -0.555\n",
       "  6.481  6.571   2.933   4.830\n",
       "  0.000  7.073   0.811   2.870\n",
       " -0.000  0.000  -0.216  -1.382"
      ]
     },
     "execution_count": 623,
     "metadata": {},
     "output_type": "execute_result"
    }
   ],
   "source": [
    "function ReducaoAHessenberg(A)\n",
    "    H=A\n",
    "    Q=one(A)\n",
    "    mA = size(A,1)\n",
    "    nA = size(A,2)\n",
    "    Qf = A\n",
    "    for i in 1:(nA-2)\n",
    "        j=0\n",
    "        vtemp = H[i+1:mA,i]\n",
    "        γ, v = ReflexaoDeHouseholder(vtemp)\n",
    "        P = I - γ*v*v'\n",
    "        Qi = P\n",
    "        \n",
    "        dimQi = size(Qi,1)\n",
    "        TamanhoIdentidadeIterativa = zeros(mA-dimQi,nA-dimQi)\n",
    "        Quni = one(TamanhoIdentidadeIterativa)\n",
    "        \n",
    "        Z = zeros(mA-i,i)\n",
    "        Q =[Quni Z'; Z Qi]\n",
    "\n",
    "        H=Q*H*Q'\n",
    "    end\n",
    "    return Q, H\n",
    "end\n",
    "\n",
    "# OBS: Eu não sei pq do nada alguns valores saem negativos. Talvez seja algo lá em cima, na hora de calcular a reflexão. \n",
    "# Mas os valores pelo menos batem com os das funções prontas de Julia, oq é menos mal. Mas o sinal está avacalhando! Encontre o erro Erick, não achei! \n",
    "\n",
    "matrixQ, matrixH = ReducaoAHessenberg(ExA)\n",
    "matrixH"
   ]
  },
  {
   "cell_type": "code",
   "execution_count": 624,
   "metadata": {},
   "outputs": [
    {
     "data": {
      "text/plain": [
       "4×4 Array{Float64,2}:\n",
       " 6.000  5.000  2.000  3.000\n",
       " 5.000  1.000  4.000  6.000\n",
       " 1.000  4.000  3.000  7.000\n",
       " 4.000  1.000  2.000  2.000"
      ]
     },
     "execution_count": 624,
     "metadata": {},
     "output_type": "execute_result"
    }
   ],
   "source": [
    "#TESTE HESSENBERG PRONTO PRA CONFERIR COM O IMPLEMENTADO\n",
    "F = hessenberg(ExA)\n",
    "F.Q*F.H*F.Q'"
   ]
  },
  {
   "cell_type": "code",
   "execution_count": 625,
   "metadata": {},
   "outputs": [
    {
     "data": {
      "text/plain": [
       "4×4 Array{Float64,2}:\n",
       "  6.000  -6.018  -1.215  -0.555\n",
       " -6.481   6.571   2.933  -4.830\n",
       "  0.000   7.073   0.811  -2.870\n",
       "  0.000   0.000   0.216  -1.382"
      ]
     },
     "execution_count": 625,
     "metadata": {},
     "output_type": "execute_result"
    }
   ],
   "source": [
    "F.H"
   ]
  },
  {
   "cell_type": "code",
   "execution_count": 626,
   "metadata": {},
   "outputs": [
    {
     "data": {
      "text/plain": [
       "4×4 LinearAlgebra.HessenbergQ{Float64,Array{Float64,2}}:\n",
       " 1.000   0.000   0.000   0.000\n",
       " 0.000  -0.772  -0.003  -0.636\n",
       " 0.000  -0.154  -0.969   0.192\n",
       " 0.000  -0.617   0.246   0.747"
      ]
     },
     "execution_count": 626,
     "metadata": {},
     "output_type": "execute_result"
    }
   ],
   "source": [
    "F.Q"
   ]
  },
  {
   "cell_type": "markdown",
   "metadata": {},
   "source": [
    "### Questão (6) Iteração de Francis de grau 2 \n",
    "\n",
    "Entrada:\n",
    "\n",
    "- H Matriz n × n Hessenberg propria.\n",
    "- Q Matriz n × n tal que A = QHQ'"
   ]
  },
  {
   "cell_type": "code",
   "execution_count": 627,
   "metadata": {},
   "outputs": [
    {
     "data": {
      "text/plain": [
       "IteraçãodeFrancis (generic function with 1 method)"
      ]
     },
     "execution_count": 627,
     "metadata": {},
     "output_type": "execute_result"
    }
   ],
   "source": [
    "#Iteração de Francis\n",
    "function IteraçãodeFrancis(H,Q) \n",
    "    A = Q*H*Q'\n",
    "    R = H*Q'\n",
    "    \n",
    "    n = size(A,1)\n",
    "    e1 = zeros(n-1)\n",
    "    e1[1] = 1\n",
    "    \n",
    "    # Use the eigenvalues of the lower-right-hand 2x2 submatrix as shifts. Iterate until\n",
    "    # you have isolated a pair of eigenvalues\n",
    "    \n",
    "    #shift = eigvals(A[n-1:n,n-1:n])\n",
    "    p1, p2 = eigvals(A[n-1:n,n-1:n]) #autovalores da matrix 2x2 que serão os shifts 1 e 2\n",
    "    pH = (A-p1*I)*(A-p2*I) #p1 e p2 são shifts a escolher \n",
    "    #Hchapeu = Tô perdida em saber quem realmente tem que ser esse cara\n",
    "    #return Hchapeu\n",
    "end"
   ]
  },
  {
   "cell_type": "code",
   "execution_count": 628,
   "metadata": {},
   "outputs": [
    {
     "data": {
      "text/plain": [
       "7.828"
      ]
     },
     "execution_count": 628,
     "metadata": {},
     "output_type": "execute_result"
    }
   ],
   "source": [
    "# auto-valores da submatriz 2x2\n",
    "function WilkinsonShift( a, b, c )\n",
    "    # Calcula shift de Wilkinson para matrizes simetricas \n",
    "    δ = (a-c)/2\n",
    "    return c - ((sign(δ)*b^2)/(abs(δ) + sqrt(δ^2+b^2)))\n",
    "end\n",
    "\n",
    "n = size(ExA,1)\n",
    "WilkinsonShift(ExA[n-1,n-1], ExA[n,n], ExA[n-1,n])"
   ]
  },
  {
   "cell_type": "code",
   "execution_count": 629,
   "metadata": {},
   "outputs": [
    {
     "data": {
      "text/plain": [
       "-3.348"
      ]
     },
     "execution_count": 629,
     "metadata": {},
     "output_type": "execute_result"
    }
   ],
   "source": [
    "Q, H = ReducaoAHessenberg(ExA)\n",
    "A = Q*H*Q'\n",
    "n = size(A,1)\n",
    "WilkinsonShift(A[n-1,n-1], A[n,n], A[n-1,n])"
   ]
  },
  {
   "cell_type": "code",
   "execution_count": 630,
   "metadata": {},
   "outputs": [
    {
     "data": {
      "text/plain": [
       "4×4 Array{Float64,2}:\n",
       "  77.929   87.688  18.919  -35.183\n",
       "  85.175  106.184  21.532  -38.880\n",
       "  44.525   55.007  11.681  -37.027\n",
       " -10.900  -11.892  -2.859    9.064"
      ]
     },
     "execution_count": 630,
     "metadata": {},
     "output_type": "execute_result"
    }
   ],
   "source": [
    "Q, H = ReducaoAHessenberg(ExA)\n",
    "IteraçãodeFrancis(H, Q)"
   ]
  },
  {
   "cell_type": "code",
   "execution_count": 631,
   "metadata": {},
   "outputs": [
    {
     "data": {
      "text/plain": [
       "2-element Array{Float64,1}:\n",
       " 0.164\n",
       " 2.342"
      ]
     },
     "execution_count": 631,
     "metadata": {},
     "output_type": "execute_result"
    }
   ],
   "source": [
    "#Teste\n",
    "W = [7.0000 7.2761 5.8120  -0.1397  9.0152   7.9363;\n",
    "    12.3693 4.1307 18.9685 -1.2071  10.6833  2.4160;\n",
    "    0      -7.1603 2.4478  -0.5656  -4.1814  -3.2510;\n",
    "    0       0     -8.5988  2.9151  -3.4169   5.7230;\n",
    "    0       0     0        1.0464  -2.8351   -10.9792;\n",
    "    0       0     0        0       1.4143    5.3415]\n",
    "\n",
    "n = size(W,1)\n",
    "W[n-1:n,n-1:n]\n",
    "eigvals(W[n-1:n,n-1:n])"
   ]
  },
  {
   "cell_type": "markdown",
   "metadata": {},
   "source": [
    "### Questão (7) Shift de Rayleigh Generalizado\n",
    "\n",
    "Implemente uma função que calcula os shifts que usaremos: \n",
    "O shift de Rayleigh generalizado (dois autovalores da matriz $H_{canto}$) se eles não forem reais, ou duas cópias do shift de Wilkinson (autovalores da matriz $H_{canto}$ mais proximo de $h_{n,n}$) caso contrário"
   ]
  },
  {
   "cell_type": "code",
   "execution_count": 632,
   "metadata": {},
   "outputs": [
    {
     "data": {
      "text/plain": [
       "ShiftDeRaileigh (generic function with 1 method)"
      ]
     },
     "execution_count": 632,
     "metadata": {},
     "output_type": "execute_result"
    }
   ],
   "source": [
    "using LinearAlgebra\n",
    "\n",
    "#Shift de Raileigh para achar os autovalores p1 e p2 da matriz Hcanto\n",
    "function ShiftDeRaileigh(H) \n",
    "    #Os shifts ρ1 e ρ2 serao os dois autovalores da matriz Hcanto se eles nao forem reais\n",
    "    p1, p2 = eigvals(H[n-1:n,n-1:n]) #autovalores da matrix 2x2 que serão os shifts 1 e 2\n",
    "    return p1, p2\n",
    "end"
   ]
  },
  {
   "cell_type": "markdown",
   "metadata": {},
   "source": [
    "### Questão (8) Aplicando $Q_0$ tal que $Q_0^1(p(H)e_1) = βe_1$\n",
    "\n",
    "Encontre manualmente uma formula explícita para o vetor $(H − ρ_1I)(H − ρ_2I)e_1$ usando que H e Hessenberg. Use sua função da seção 1.3 para encontrar um refletor $Q_0$ pequeno (que opera em poucas linhas/colunas) com a propriedade desejada."
   ]
  },
  {
   "cell_type": "code",
   "execution_count": 633,
   "metadata": {},
   "outputs": [
    {
     "data": {
      "text/plain": [
       "EncontreQ0 (generic function with 1 method)"
      ]
     },
     "execution_count": 633,
     "metadata": {},
     "output_type": "execute_result"
    }
   ],
   "source": [
    "using LinearAlgebra\n",
    "\n",
    "function EncontreQ0(H) \n",
    "    \n",
    "    return Q0\n",
    "end"
   ]
  },
  {
   "cell_type": "markdown",
   "metadata": {},
   "source": [
    "### Questão Extra - Voltando a forma de Hessenberg\n",
    "Se A é simétrica, H é tridiagonal, pois uma matriz similar a uma simétrica é também simétrica. Se não quisermos calcular Q, implemente uma otimização que faça uma iteração de Francis (no caso simétrico) em tempo O(n) e verifique que sua função se comporta igual ao caso geral.\n",
    "Dica: Aplicar os refletores do algoritmo numa matriz tridiagonal demora tempo O(1), pois, para um dado refletor, quase todas as linhas/colunas conterão zeros nas posicões relevantes."
   ]
  },
  {
   "cell_type": "code",
   "execution_count": 634,
   "metadata": {
    "scrolled": true
   },
   "outputs": [
    {
     "data": {
      "text/plain": [
       "FrancisOdeN (generic function with 1 method)"
      ]
     },
     "execution_count": 634,
     "metadata": {},
     "output_type": "execute_result"
    }
   ],
   "source": [
    "using LinearAlgebra\n",
    "\n",
    "function FrancisOdeN(A,H) \n",
    "    numColH = size(H,2)\n",
    "    for i in 1:numColH\n",
    "        Wtemp = H[:,i]\n",
    "        γ, v = ReflexaoDeHouseholder(Wtemp)\n",
    "        Qi = I - γ*v*vt #Falta consertar a parte de guardar os valores do Qi\n",
    "    end\n",
    "    return Q0\n",
    "end"
   ]
  },
  {
   "cell_type": "markdown",
   "metadata": {},
   "source": [
    "### Questão (9) Juntando tudo no caso simétrico\n",
    "Implemente o procedimento acima para fazer varias iterações de Francis. Faça seu código imprimir uma mensagem dizendo qual dos dois casos (Caso 1 ou Caso 2) reduziu o problema. Qual caso acontece mais frequentemente?"
   ]
  },
  {
   "cell_type": "code",
   "execution_count": 635,
   "metadata": {
    "scrolled": true
   },
   "outputs": [
    {
     "name": "stdout",
     "output_type": "stream",
     "text": [
      "Hello World\n"
     ]
    }
   ],
   "source": [
    "println(\"Hello World\")"
   ]
  },
  {
   "cell_type": "markdown",
   "metadata": {},
   "source": [
    "### Questão Extra - Juntando tudo no caso simétrico\n",
    "Para todo $k = 1, . . . , n$, verifique numericamente que $p(H)e_k$ pode ser expresso como combinação linear das colunas ${q1, . . . , qk}$, e portanto que estamos iterando subespaços. Lembre-se de se restringir ao pedaço da matriz que e Hessenberg próprio."
   ]
  },
  {
   "cell_type": "code",
   "execution_count": 636,
   "metadata": {
    "scrolled": true
   },
   "outputs": [
    {
     "name": "stdout",
     "output_type": "stream",
     "text": [
      "Hello World\n"
     ]
    }
   ],
   "source": [
    "println(\"Hello World\")"
   ]
  },
  {
   "cell_type": "markdown",
   "metadata": {},
   "source": [
    "## _SVD de matrizes reais $n \\times m$ com $n \\geqslant m$_"
   ]
  },
  {
   "cell_type": "markdown",
   "metadata": {},
   "source": [
    "### Questão (10) Bidiagonalização de Golub–Kahan\n",
    "\n",
    "Implemente o algoritmo de bidiagonalização de Golub–Kahan."
   ]
  },
  {
   "cell_type": "code",
   "execution_count": 637,
   "metadata": {},
   "outputs": [
    {
     "name": "stdout",
     "output_type": "stream",
     "text": [
      "Hello World\n"
     ]
    }
   ],
   "source": [
    "println(\"Hello World\")"
   ]
  },
  {
   "cell_type": "markdown",
   "metadata": {},
   "source": [
    "### Questão (11) Golub–Reinsch: SVD de B bidiagonal própria\n",
    "\n",
    "Implemente uma iteração do algoritmo de Golub–Reinsch"
   ]
  },
  {
   "cell_type": "code",
   "execution_count": 638,
   "metadata": {},
   "outputs": [
    {
     "name": "stdout",
     "output_type": "stream",
     "text": [
      "Hello World\n"
     ]
    }
   ],
   "source": [
    "println(\"Hello World\")"
   ]
  },
  {
   "cell_type": "code",
   "execution_count": null,
   "metadata": {},
   "outputs": [],
   "source": []
  }
 ],
 "metadata": {
  "kernelspec": {
   "display_name": "Julia 1.0.1",
   "language": "julia",
   "name": "julia-1.0"
  },
  "language_info": {
   "file_extension": ".jl",
   "mimetype": "application/julia",
   "name": "julia",
   "version": "1.0.1"
  }
 },
 "nbformat": 4,
 "nbformat_minor": 2
}
