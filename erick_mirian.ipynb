{
 "cells": [
  {
   "cell_type": "code",
   "execution_count": 180,
   "metadata": {},
   "outputs": [],
   "source": [
    "using LinearAlgebra\n",
    "using Printf\n",
    "Base.show(io::IO, f::Float64) = @printf(io, \"%1.3f\", f)"
   ]
  },
  {
   "cell_type": "markdown",
   "metadata": {},
   "source": [
    "## _Primitivas_"
   ]
  },
  {
   "cell_type": "markdown",
   "metadata": {},
   "source": [
    "### Questão (1)\n",
    "Implementação de uma função que calcula a norma de um vetor no $R^n$."
   ]
  },
  {
   "cell_type": "code",
   "execution_count": 168,
   "metadata": {},
   "outputs": [
    {
     "data": {
      "text/plain": [
       "NormaWdoVetor (generic function with 1 method)"
      ]
     },
     "execution_count": 168,
     "metadata": {},
     "output_type": "execute_result"
    }
   ],
   "source": [
    "#Norma Comum\n",
    "function NormaComumdoVetor(V)\n",
    "    sumV=0\n",
    "    for i in V #Somatório do Elemento\n",
    "        sumV = sumV + i*i\n",
    "    end\n",
    "    NormaV = sqrt(sumV)\n",
    "\n",
    "    return NormaV\n",
    "end\n",
    "\n",
    "#Norma W - Recebe um vetor V e retorna a versão vetor W definida na questão\n",
    "function NormaWdoVetor(V)\n",
    "    Beta =  maximum(V) #Beta é o maior valor do vetor V\n",
    "    W = (1/Beta)*V # o vetor W é o produto entre inversa de Beta e vetor V\n",
    "    sumW=0\n",
    "    for i in W #Somatório do Elemento\n",
    "        sumW = sumW + i*i\n",
    "    end\n",
    "    NormaW = sqrt(sumW)\n",
    "\n",
    "    return NormaW\n",
    "end"
   ]
  },
  {
   "cell_type": "markdown",
   "metadata": {},
   "source": [
    "### Questão (2) Rotações de Givens - Caso Real\n",
    "\n",
    "Implementação de uma função que recebe dois números reais, f e g, e calcula *c,s* e *r* com as propriedades de norma implementadas acima, sem usar funções trigonométricas na resposta final."
   ]
  },
  {
   "cell_type": "code",
   "execution_count": 169,
   "metadata": {},
   "outputs": [
    {
     "data": {
      "text/plain": [
       "RotacaoDeGivens2x2 (generic function with 1 method)"
      ]
     },
     "execution_count": 169,
     "metadata": {},
     "output_type": "execute_result"
    }
   ],
   "source": [
    "#Função Rotação de Givens, recebe a e b, e retorna r, c, s\n",
    "function RotacaoDeGivens2x2(f,g)\n",
    "\n",
    "    r = sqrt((f*f)+(g*g)) #Achando o valor de r\n",
    "    c = f/r #Fórmula do valor de c\n",
    "    s = g/r #Fórmula do valor de s\n",
    "\n",
    "    return r,c,s\n",
    "end"
   ]
  },
  {
   "cell_type": "markdown",
   "metadata": {},
   "source": [
    "### Questão (3) Refletores de Householder - Caso Real\n",
    "\n",
    "Função que recebe um vetor w e computa γ e v com as propriedades implementadas acima."
   ]
  },
  {
   "cell_type": "code",
   "execution_count": 170,
   "metadata": {},
   "outputs": [
    {
     "data": {
      "text/plain": [
       "ReflexaoDeHouseholder (generic function with 1 method)"
      ]
     },
     "execution_count": 170,
     "metadata": {},
     "output_type": "execute_result"
    }
   ],
   "source": [
    "#Função Reflexão de Householder, recebe vetor W e retorna \n",
    "function ReflexaoDeHouseholder(W)\n",
    "    \n",
    "    SizeW = length(W) #Pegando o tamanho do Vetor W\n",
    "    NormadeW = NormaComumdoVetor(W) #Já tirando a norma de W\n",
    "    \n",
    "    e = zeros(SizeW, 1) #Aqui criaremos o vetor elementar e do mesmo tamanho do W\n",
    "    e[1] = 1 #O primeiro valor de e é 1\n",
    "    \n",
    "    α = NormadeW #α é a norma de W\n",
    "\n",
    "    V = W - α*e\n",
    "    print(\"V:\\n\", V)\n",
    "    \n",
    "    NormadeV = NormaComumdoVetor(V) #Norma do V encontrado para acharmos o γ\n",
    "    γ = 2/(NormadeV*NormadeV)\n",
    "    print(V)\n",
    "    return γ, V\n",
    "end"
   ]
  },
  {
   "cell_type": "code",
   "execution_count": 171,
   "metadata": {},
   "outputs": [
    {
     "name": "stdout",
     "output_type": "stream",
     "text": [
      "V:\n",
      "[-2.000; 4.000][-2.000; 4.000]"
     ]
    },
    {
     "data": {
      "text/plain": [
       "2-element Array{Float64,1}:\n",
       " 5.000\n",
       " 0.000"
      ]
     },
     "execution_count": 171,
     "metadata": {},
     "output_type": "execute_result"
    }
   ],
   "source": [
    "#TESTE\n",
    "γ, V = ReflexaoDeHouseholder([3; 4])\n",
    "P = I - γ*V*(V')\n",
    "P*[3; 4]"
   ]
  },
  {
   "cell_type": "markdown",
   "metadata": {},
   "source": [
    "### Questão (4) Decomposição QR\n",
    "\n",
    "Implementação de uma função que calcula a decomposição QR de uma matriz A:"
   ]
  },
  {
   "cell_type": "code",
   "execution_count": 181,
   "metadata": {},
   "outputs": [
    {
     "data": {
      "text/plain": [
       "QRporReflexaoDeHouseholder (generic function with 1 method)"
      ]
     },
     "execution_count": 181,
     "metadata": {},
     "output_type": "execute_result"
    }
   ],
   "source": [
    "#QR por Givens\n",
    "function QR2x2porRotacaoDeGivens(A) \n",
    "    V = A[:,1]\n",
    "    a = A[1]\n",
    "    b = A[2]\n",
    "    r,c,s = RotacaoDeGivens2x2Givens(a,b)\n",
    "    Q = [c -s ; s c]\n",
    "    return Q\n",
    "end\n",
    "\n",
    "#QR por Reflexão de Householder\n",
    "function QRporReflexaoDeHouseholder(A) \n",
    "    Q=one(A)\n",
    "    mA = size(A,1)\n",
    "    nA = size(A,2)\n",
    "    for i in 1:(nA-1)\n",
    "        vtemp = A[i:mA,i] #vetor temporario que é enviado pra Reflexao\n",
    "        print(size(vtemp))\n",
    "        γ, v = ReflexaoDeHouseholder(vtemp)\n",
    "        vt = transpose(v) \n",
    "        P = I - γ*v*vt #formula de Householder\n",
    "        Qi = P\n",
    "        Q[:,i:nA] = Q[:,i:nA]*Qi\n",
    "        A[i:mA, i:nA]=P*A[i:mA, i:nA] #Problema aqui em alocar os valores das submatrizes, nao tenho ideia de como fazer em julia por hora\n",
    "    end\n",
    "    return Q,A\n",
    "end"
   ]
  },
  {
   "cell_type": "code",
   "execution_count": 184,
   "metadata": {},
   "outputs": [
    {
     "name": "stdout",
     "output_type": "stream",
     "text": [
      "[-7.810 -4.481 -2.561; 0.000 4.682 0.966; 0.000 0.000 4.184]"
     ]
    }
   ],
   "source": [
    "#TESTE\n",
    "#QRpronto(A)\n",
    "function QRpronto(A) \n",
    "    Q,R = qr(A)\n",
    "    print(R)\n",
    "end\n",
    "\n",
    "QRpronto([6.0 5.0 0.0;\n",
    "        5.0 1.0 4.0;\n",
    "        0.0 4.0 3.0])"
   ]
  },
  {
   "cell_type": "code",
   "execution_count": 188,
   "metadata": {},
   "outputs": [
    {
     "name": "stdout",
     "output_type": "stream",
     "text": [
      "(3,)V:\n",
      "[-1.810; 5.000; 0.000][-1.810; 5.000; 0.000](2,)V:\n",
      "[-2.249; 4.000][-2.249; 4.000]\n",
      "Matriz Triangular R:[7.810 4.481 2.561; -0.000 4.682 0.966; 0.000 0.000 -4.184]\n",
      "\n",
      "[6.000 5.000 0.000; 5.000 1.000 4.000; -0.000 4.000 3.000]\n",
      "\n",
      "[1.000 0.000 0.000; 0.000 1.000 0.000; 0.000 0.000 1.000]\n",
      "\n"
     ]
    }
   ],
   "source": [
    "#TESTE\n",
    "Q, R = QRporReflexaoDeHouseholder(\n",
    "        [6.0 5.0 0.0;\n",
    "        5.0 1.0 4.0;\n",
    "        0.0 4.0 3.0])\n",
    "\n",
    "println(\"\\nMatriz Triangular R:\", R, \"\\n\")\n",
    "println(Q*R, \"\\n\")\n",
    "println(Q'*Q, \"\\n\")"
   ]
  },
  {
   "cell_type": "markdown",
   "metadata": {},
   "source": [
    "## _Autovalores e autovetores_"
   ]
  },
  {
   "cell_type": "markdown",
   "metadata": {},
   "source": [
    "### Questão (5) Redução à forma de Hessenberg\n",
    "\n",
    "Implementação de uma função que reduza uma matriz A a forma de Hessenberg:"
   ]
  },
  {
   "cell_type": "code",
   "execution_count": 193,
   "metadata": {},
   "outputs": [
    {
     "data": {
      "text/plain": [
       "ReducaoAHessenberg (generic function with 1 method)"
      ]
     },
     "execution_count": 193,
     "metadata": {},
     "output_type": "execute_result"
    }
   ],
   "source": [
    "#Redução a forma de Hessenberg\n",
    "function ReducaoAHessenberg(A) \n",
    "    Q = one(A)\n",
    "    mA = size(A,1)\n",
    "    nA = size(A,2)\n",
    "    for i in 1:(nA-2)\n",
    "        vtemp = A[i:mA,i]\n",
    "        γ, v = ReflexaoDeHouseholder(vtemp)\n",
    "        P = I - γ*v*v' \n",
    "        Qi = P\n",
    "        Q[:,i:nA] = Q[:,i:nA]*Qi\n",
    "        A[i:mA, i:nA]=P*A[i:mA, i:nA]\n",
    "        print(\"\\n\")\n",
    "        print(\"MATRIZ Q:\\n\",Q)\n",
    "    end\n",
    "    return H,Q\n",
    "end"
   ]
  },
  {
   "cell_type": "code",
   "execution_count": 194,
   "metadata": {},
   "outputs": [
    {
     "name": "stdout",
     "output_type": "stream",
     "text": [
      "V:\n",
      "[-1.810; 5.000; 0.000][-1.810; 5.000; 0.000]\n",
      "MATRIZ Q:\n",
      "[0.768 0.640 0.000; 0.640 -0.768 0.000; 0.000 0.000 1.000]"
     ]
    },
    {
     "data": {
      "text/plain": [
       "([0.768 0.333 0.547; 0.640 -0.399 -0.656; 0.000 0.854 -0.520], [0.768 0.640 0.000; 0.640 -0.768 0.000; 0.000 0.000 1.000])"
      ]
     },
     "execution_count": 194,
     "metadata": {},
     "output_type": "execute_result"
    }
   ],
   "source": [
    "#TESTE\n",
    "H, Q = ReducaoAHessenberg(\n",
    "        [6.0 5.0 0.0;\n",
    "        5.0 1.0 4.0;\n",
    "        0.0 4.0 3.0])"
   ]
  },
  {
   "cell_type": "markdown",
   "metadata": {},
   "source": [
    "### Questão (6) Iteração de Francis de grau 2 "
   ]
  },
  {
   "cell_type": "code",
   "execution_count": 195,
   "metadata": {},
   "outputs": [
    {
     "data": {
      "text/plain": [
       "IteraçãodeFrancis (generic function with 1 method)"
      ]
     },
     "execution_count": 195,
     "metadata": {},
     "output_type": "execute_result"
    }
   ],
   "source": [
    "using LinearAlgebra\n",
    "\n",
    "#Iteração de Francis\n",
    "function IteraçãodeFrancis(H,Q) \n",
    "    Qx = conjugate(Q') #Q conjugado e transposto\n",
    "    A = Q*H*Qx\n",
    "    R = H*Qx\n",
    "    p(H) = (H-p1*I)*(H-p2*I) #p1 e p2 são shifts a escolher\n",
    "    Hchapeu = H = α*p(H)\n",
    "    return Hchapeu\n",
    "end"
   ]
  },
  {
   "cell_type": "markdown",
   "metadata": {},
   "source": [
    "### Questão (7) Shift de Rayleigh Generalizado\n",
    "\n",
    "Implemente uma função que calcula os shifts que usaremos: \n",
    "O shift de Rayleigh generalizado (dois autovalores da matriz $H_{canto}$) se eles não forem reais, ou duas cópias do shift de Wilkinson (autovalores da matriz $H_{canto}$ mais proximo de $h_{n,n}$) caso contrário"
   ]
  },
  {
   "cell_type": "code",
   "execution_count": 196,
   "metadata": {},
   "outputs": [
    {
     "data": {
      "text/plain": [
       "ShiftDeRaileigh (generic function with 1 method)"
      ]
     },
     "execution_count": 196,
     "metadata": {},
     "output_type": "execute_result"
    }
   ],
   "source": [
    "using LinearAlgebra\n",
    "\n",
    "#Shift de Raileigh para achar os autovalores p1 e p2 da matriz Hcanto\n",
    "function ShiftDeRaileigh(H) \n",
    "    \n",
    "    return p1, p2\n",
    "end"
   ]
  },
  {
   "cell_type": "markdown",
   "metadata": {},
   "source": [
    "### Questão (8) Aplicando $Q_0$ tal que $Q_0^1(p(H)e_1) = βe_1$\n",
    "\n",
    "Encontre manualmente uma formula explícita para o vetor $(H − ρ_1I)(H − ρ_2I)e_1$ usando que H e Hessenberg. Use sua função da seção 1.3 para encontrar um refletor $Q_0$ pequeno (que opera em poucas linhas/colunas) com a propriedade desejada."
   ]
  },
  {
   "cell_type": "code",
   "execution_count": 197,
   "metadata": {},
   "outputs": [
    {
     "data": {
      "text/plain": [
       "EncontreQ0 (generic function with 1 method)"
      ]
     },
     "execution_count": 197,
     "metadata": {},
     "output_type": "execute_result"
    }
   ],
   "source": [
    "using LinearAlgebra\n",
    "\n",
    "function EncontreQ0(H) \n",
    "    \n",
    "    return Q0\n",
    "end"
   ]
  },
  {
   "cell_type": "markdown",
   "metadata": {},
   "source": [
    "### Questão Extra - Voltando a forma de Hessenberg\n",
    "Se A é simétrica, H é tridiagonal, pois uma matriz similar a uma simétrica é também simétrica. Se não quisermos calcular Q, implemente uma otimização que faça uma iteração de Francis (no caso simétrico) em tempo O(n) e verifique que sua função se comporta igual ao caso geral.\n",
    "Dica: Aplicar os refletores do algoritmo numa matriz tridiagonal demora tempo O(1), pois, para um dado refletor, quase todas as linhas/colunas conterão zeros nas posicões relevantes."
   ]
  },
  {
   "cell_type": "code",
   "execution_count": 109,
   "metadata": {
    "scrolled": true
   },
   "outputs": [
    {
     "data": {
      "text/plain": [
       "FrancisOdeN (generic function with 1 method)"
      ]
     },
     "execution_count": 109,
     "metadata": {},
     "output_type": "execute_result"
    }
   ],
   "source": [
    "using LinearAlgebra\n",
    "\n",
    "function FrancisOdeN(A,H) \n",
    "    numColH = size(H,2)\n",
    "    for i in 1:numColH\n",
    "        Wtemp = H[:,i]\n",
    "        γ, v = ReflexaoDeHouseholder(Wtemp)\n",
    "        Qi = I - γ*v*vt #Falta consertar a parte de guardar os valores do Qi\n",
    "    end\n",
    "    return Q0\n",
    "end"
   ]
  },
  {
   "cell_type": "markdown",
   "metadata": {},
   "source": [
    "### Questão (9) Juntando tudo no caso simétrico\n",
    "Implemente o procedimento acima para fazer varias iterações de Francis. Faça seu código imprimir uma mensagem dizendo qual dos dois casos (Caso 1 ou Caso 2) reduziu o problema. Qual caso acontece mais frequentemente?"
   ]
  },
  {
   "cell_type": "code",
   "execution_count": 110,
   "metadata": {
    "scrolled": true
   },
   "outputs": [
    {
     "name": "stdout",
     "output_type": "stream",
     "text": [
      "Hello World\n"
     ]
    }
   ],
   "source": [
    "println(\"Hello World\")"
   ]
  },
  {
   "cell_type": "markdown",
   "metadata": {},
   "source": [
    "### Questão Extra - Juntando tudo no caso simétrico\n",
    "Para todo $k = 1, . . . , n$, verifique numericamente que $p(H)e_k$ pode ser expresso como combinação linear das colunas ${q1, . . . , qk}$, e portanto que estamos iterando subespaços. Lembre-se de se restringir ao pedaço da matriz que e Hessenberg próprio."
   ]
  },
  {
   "cell_type": "code",
   "execution_count": 18,
   "metadata": {
    "scrolled": true
   },
   "outputs": [
    {
     "name": "stdout",
     "output_type": "stream",
     "text": [
      "Hello World\n"
     ]
    }
   ],
   "source": [
    "println(\"Hello World\")"
   ]
  },
  {
   "cell_type": "markdown",
   "metadata": {},
   "source": [
    "## _SVD de matrizes reais $n \\times m$ com $n \\geqslant m$_"
   ]
  },
  {
   "cell_type": "markdown",
   "metadata": {},
   "source": [
    "### Questão (10) Bidiagonalização de Golub–Kahan\n",
    "\n",
    "Implemente o algoritmo de bidiagonalização de Golub–Kahan."
   ]
  },
  {
   "cell_type": "code",
   "execution_count": 19,
   "metadata": {},
   "outputs": [
    {
     "name": "stdout",
     "output_type": "stream",
     "text": [
      "Hello World\n"
     ]
    }
   ],
   "source": [
    "println(\"Hello World\")"
   ]
  },
  {
   "cell_type": "markdown",
   "metadata": {},
   "source": [
    "### Questão (11) Golub–Reinsch: SVD de B bidiagonal própria\n",
    "\n",
    "Implemente uma iteração do algoritmo de Golub–Reinsch"
   ]
  },
  {
   "cell_type": "code",
   "execution_count": 20,
   "metadata": {},
   "outputs": [
    {
     "name": "stdout",
     "output_type": "stream",
     "text": [
      "Hello World\n"
     ]
    }
   ],
   "source": [
    "println(\"Hello World\")"
   ]
  }
 ],
 "metadata": {
  "kernelspec": {
   "display_name": "Julia 1.0.1",
   "language": "julia",
   "name": "julia-1.0"
  },
  "language_info": {
   "file_extension": ".jl",
   "mimetype": "application/julia",
   "name": "julia",
   "version": "1.0.1"
  }
 },
 "nbformat": 4,
 "nbformat_minor": 2
}
